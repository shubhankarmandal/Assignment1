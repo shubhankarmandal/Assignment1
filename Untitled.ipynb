{
 "cells": [
  {
   "cell_type": "code",
   "execution_count": 1,
   "id": "cea72863",
   "metadata": {},
   "outputs": [
    {
     "name": "stdout",
     "output_type": "stream",
     "text": [
      "<class 'str'>\n",
      "<class 'list'>\n",
      "<class 'float'>\n",
      "<class 'tuple'>\n"
     ]
    }
   ],
   "source": [
    "#Q1\n",
    "# 1.string\n",
    "a = \"shubhankar\"\n",
    "# 2.list\n",
    "b=[\"yash\",1,5,True,\"sameer\"]\n",
    "# 3.float\n",
    "c=56.7\n",
    "# 4.tuple\n",
    "d=(\"shubh\",\"sudh\",34,76,False)\n",
    "print(type(a))\n",
    "print(type(b))\n",
    "print(type(c))\n",
    "print(type(d))"
   ]
  },
  {
   "cell_type": "code",
   "execution_count": 2,
   "id": "874f378d",
   "metadata": {},
   "outputs": [],
   "source": [
    "#Q2. Given are some following variables containing data:\n",
    "#ans=(i) string\n",
    "#(ii) string\n",
    "#(iii) list\n",
    "#(iv) integer"
   ]
  },
  {
   "cell_type": "code",
   "execution_count": 3,
   "id": "ca12839c",
   "metadata": {},
   "outputs": [
    {
     "name": "stdout",
     "output_type": "stream",
     "text": [
      "2.0\n",
      "2\n",
      "1\n",
      "16\n"
     ]
    }
   ],
   "source": [
    "#Q3. Explain the use of the following operators using an example:\n",
    "#(i) / - division\n",
    "a=10/5\n",
    "print(a)\n",
    "#(ii) % - remainder\n",
    "b=10%4\n",
    "print(b)\n",
    "#(iii) // -floor division\n",
    "c=10//6\n",
    "print(c)\n",
    "#(iv) ** - power\n",
    "d= 2** 4\n",
    "print(d)"
   ]
  },
  {
   "cell_type": "code",
   "execution_count": 4,
   "id": "afee39fe",
   "metadata": {},
   "outputs": [
    {
     "name": "stdout",
     "output_type": "stream",
     "text": [
      "324\n",
      "<class 'int'>\n",
      "6545\n",
      "<class 'int'>\n",
      "shubhankar\n",
      "<class 'str'>\n",
      "True\n",
      "<class 'bool'>\n",
      "False\n",
      "<class 'bool'>\n",
      "Fire\n",
      "<class 'str'>\n",
      "sudh\n",
      "<class 'str'>\n",
      "434\n",
      "<class 'int'>\n",
      "6554\n",
      "<class 'int'>\n",
      "86\n",
      "<class 'int'>\n"
     ]
    }
   ],
   "source": [
    "#Q4\n",
    "list = [324,6545,\"shubhankar\",True,False,\"Fire\",\"sudh\",434,6554,86]\n",
    "for i in list:\n",
    "    print(i)\n",
    "    print(type(i))"
   ]
  },
  {
   "cell_type": "code",
   "execution_count": 5,
   "id": "d8bd94d2",
   "metadata": {},
   "outputs": [
    {
     "name": "stdout",
     "output_type": "stream",
     "text": [
      " 30 can be purely divisible by 3 by 10.0 times\n"
     ]
    }
   ],
   "source": [
    "#Q5\n",
    "a=30\n",
    "b=3\n",
    "while a%b==0:\n",
    "    c=a/b\n",
    "    print(f' 30 can be purely divisible by 3 by {c} times')\n",
    "    break"
   ]
  },
  {
   "cell_type": "code",
   "execution_count": 6,
   "id": "d3ebb4ac",
   "metadata": {},
   "outputs": [
    {
     "name": "stdout",
     "output_type": "stream",
     "text": [
      "the no. is not divisible by 3\n",
      "the no. is not divisible by 3\n",
      "the no. is divisible by 3\n",
      "the no. is divisible by 3\n",
      "the no. is not divisible by 3\n",
      "the no. is not divisible by 3\n",
      "the no. is divisible by 3\n",
      "the no. is not divisible by 3\n",
      "the no. is not divisible by 3\n",
      "the no. is divisible by 3\n",
      "the no. is not divisible by 3\n",
      "the no. is not divisible by 3\n",
      "the no. is not divisible by 3\n",
      "the no. is not divisible by 3\n",
      "the no. is divisible by 3\n",
      "the no. is not divisible by 3\n",
      "the no. is not divisible by 3\n",
      "the no. is divisible by 3\n",
      "the no. is not divisible by 3\n",
      "the no. is not divisible by 3\n",
      "the no. is not divisible by 3\n",
      "the no. is not divisible by 3\n",
      "the no. is divisible by 3\n",
      "the no. is not divisible by 3\n",
      "the no. is divisible by 3\n"
     ]
    }
   ],
   "source": [
    "#Q6\n",
    "my_list=[1,2,3,57,43,23,6,2,7,9,4,67,4,74,36,86,34,3,89,5,43,4,678,7,6]\n",
    "for i in my_list:\n",
    "    if i%3==0:\n",
    "        print(\"the no. is divisible by 3\")\n",
    "    else:\n",
    "        print(\"the no. is not divisible by 3\")"
   ]
  },
  {
   "cell_type": "code",
   "execution_count": 7,
   "id": "86831732",
   "metadata": {},
   "outputs": [
    {
     "name": "stdout",
     "output_type": "stream",
     "text": [
      "['shubhankar', 43, 656, 23, 454, 5645, 'harsh']\n"
     ]
    },
    {
     "ename": "TypeError",
     "evalue": "'str' object does not support item assignment",
     "output_type": "error",
     "traceback": [
      "\u001b[1;31m---------------------------------------------------------------------------\u001b[0m",
      "\u001b[1;31mTypeError\u001b[0m                                 Traceback (most recent call last)",
      "Cell \u001b[1;32mIn[7], line 8\u001b[0m\n\u001b[0;32m      6\u001b[0m \u001b[38;5;66;03m#immutable= variable which we cannot change is called immutable\u001b[39;00m\n\u001b[0;32m      7\u001b[0m b\u001b[38;5;241m=\u001b[39m\u001b[38;5;124m\"\u001b[39m\u001b[38;5;124mshubhankar\u001b[39m\u001b[38;5;124m\"\u001b[39m\n\u001b[1;32m----> 8\u001b[0m b[\u001b[38;5;241m5\u001b[39m]\u001b[38;5;241m=\u001b[39m\u001b[38;5;124m\"\u001b[39m\u001b[38;5;124mc\u001b[39m\u001b[38;5;124m\"\u001b[39m\n\u001b[0;32m      9\u001b[0m \u001b[38;5;28mprint\u001b[39m(b)\n",
      "\u001b[1;31mTypeError\u001b[0m: 'str' object does not support item assignment"
     ]
    }
   ],
   "source": [
    "#Q7\n",
    "#mutable= variable which we can change is called mutable\n",
    "a=[\"shubhankar\",43,656,23,454,5645,\"yash\"]\n",
    "a[6]=\"harsh\"\n",
    "print(a)\n",
    "#immutable= variable which we cannot change is called immutable\n",
    "b=\"shubhankar\"\n",
    "b[5]=\"c\"\n",
    "print(b)\n",
    "#a is mutable as we replace yash into harsh\n",
    "#b is immutable as we cant able to replace a into h"
   ]
  },
  {
   "cell_type": "code",
   "execution_count": null,
   "id": "de9d3556",
   "metadata": {},
   "outputs": [],
   "source": []
  }
 ],
 "metadata": {
  "kernelspec": {
   "display_name": "Python 3 (ipykernel)",
   "language": "python",
   "name": "python3"
  },
  "language_info": {
   "codemirror_mode": {
    "name": "ipython",
    "version": 3
   },
   "file_extension": ".py",
   "mimetype": "text/x-python",
   "name": "python",
   "nbconvert_exporter": "python",
   "pygments_lexer": "ipython3",
   "version": "3.10.9"
  }
 },
 "nbformat": 4,
 "nbformat_minor": 5
}
